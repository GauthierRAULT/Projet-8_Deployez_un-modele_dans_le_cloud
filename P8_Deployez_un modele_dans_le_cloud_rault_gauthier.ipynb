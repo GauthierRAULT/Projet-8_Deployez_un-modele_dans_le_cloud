{
 "cells": [
  {
   "cell_type": "markdown",
   "id": "c115f930",
   "metadata": {},
   "source": [
    "# Sommaire\n",
    "1. [Importation des librairies et chargement des données](#0-bullet) <br>\n",
    "2. [Démarrer la session spark](#1-bullet) <br>\n",
    "3. [Chargement des données](#2-bullet) <br>\n",
    "    1. [En local](#3-bullet) <br>      \n",
    "    2. [Via le cloud (AWS S3)](#4-bullet) <br>     \n",
    "4. [Préparation du modèle  du Model ( MobileNetV2)](#5-bullet) <br>\n",
    "5. [Prétraitement des images et Extraction des features](#6-bullet) <br>\n",
    "6. [Standardisation des features](#7-bullet) <br>\n",
    "7. [Réduction de dimension : PCA](#8-bullet) <br>\n",
    "8. [Sauvegarde des features](#9-bullet) <br>\n",
    "9. [Arrêt de la session Spark](#10-bullet) <br>\n"
   ]
  },
  {
   "cell_type": "markdown",
   "id": "d850342e",
   "metadata": {},
   "source": [
    "## 1. Importation des librairies et chargement des données<a class=\"anchor\" id=\"0-bullet\"></a>"
   ]
  },
  {
   "cell_type": "code",
   "execution_count": 1,
   "id": "e99c5695",
   "metadata": {},
   "outputs": [
    {
     "name": "stderr",
     "output_type": "stream",
     "text": [
      "2022-12-06 22:02:14.369540: I tensorflow/core/platform/cpu_feature_guard.cc:193] This TensorFlow binary is optimized with oneAPI Deep Neural Network Library (oneDNN) to use the following CPU instructions in performance-critical operations:  AVX2 FMA\n",
      "To enable them in other operations, rebuild TensorFlow with the appropriate compiler flags.\n"
     ]
    }
   ],
   "source": [
    "# librairies classiques\n",
    "\n",
    "import pandas as pd\n",
    "from PIL import Image\n",
    "import numpy as np\n",
    "import io\n",
    "import os\n",
    "import matplotlib.pyplot as plt\n",
    "import warnings # supress warnings\n",
    "warnings.filterwarnings('ignore')\n",
    "\n",
    "import tensorflow as tf\n",
    "\n",
    "from tensorflow.keras.applications.mobilenet_v2 import MobileNetV2, preprocess_input\n",
    "from tensorflow.keras.preprocessing.image import img_to_array\n",
    "from tensorflow.keras import Model\n",
    "from pyspark.sql.functions import col, pandas_udf, PandasUDFType, element_at, split\n",
    "from pyspark.sql import SparkSession\n",
    "\n",
    "\n",
    "# librairies pyspark\n",
    "from pyspark.sql.functions import PandasUDFType\n",
    "from pyspark.sql.types import IntegerType\n",
    "\n",
    "from pyspark.sql.functions import udf\n",
    "from pyspark.ml.linalg import Vectors, VectorUDT, DenseVector\n",
    "\n",
    "from pyspark.ml.feature import StandardScaler, PCA\n",
    "\n",
    "# Installation d'Hadoop Spark\n",
    "#import findspark\n",
    "#findspark.init('/desktop/spark-3.0.3-bin-hadoop2.7')"
   ]
  },
  {
   "cell_type": "markdown",
   "id": "9fafd8af",
   "metadata": {},
   "source": [
    "## 2. Démarrer la session spark<a class=\"anchor\" id=\"1-bullet\"></a>"
   ]
  },
  {
   "cell_type": "code",
   "execution_count": 2,
   "id": "233eef2f",
   "metadata": {},
   "outputs": [
    {
     "name": "stderr",
     "output_type": "stream",
     "text": [
      "Setting default log level to \"WARN\".\n",
      "To adjust logging level use sc.setLogLevel(newLevel). For SparkR, use setLogLevel(newLevel).\n"
     ]
    },
    {
     "name": "stdout",
     "output_type": "stream",
     "text": [
      "22/12/06 22:02:24 WARN NativeCodeLoader: Unable to load native-hadoop library for your platform... using builtin-java classes where applicable\n"
     ]
    }
   ],
   "source": [
    "spark = (SparkSession\n",
    "             .builder\n",
    "             .appName('P8')\n",
    "             .master('local')\n",
    "             #.master('AWS')\n",
    "             #.config(\"spark.jars.packages\", \"org.apache.hadoop:hadoop-aws:2.7\")\n",
    "             .config(\"spark.sql.parquet.writeLegacyFormat\", 'true')\n",
    "             .getOrCreate()\n",
    ")"
   ]
  },
  {
   "cell_type": "code",
   "execution_count": 3,
   "id": "1719b95a",
   "metadata": {
    "scrolled": true
   },
   "outputs": [],
   "source": [
    "sc = spark.sparkContext"
   ]
  },
  {
   "cell_type": "code",
   "execution_count": 4,
   "id": "14c89dd0",
   "metadata": {},
   "outputs": [],
   "source": [
    "sc.setLogLevel(\"FATAL\")\n",
    "spark.conf.set(\"spark.sql.execution.arrow.maxRecordsPerBatch\", \"1024\")"
   ]
  },
  {
   "cell_type": "code",
   "execution_count": 5,
   "id": "14016622",
   "metadata": {
    "scrolled": true
   },
   "outputs": [
    {
     "data": {
      "text/html": [
       "\n",
       "            <div>\n",
       "                <p><b>SparkSession - in-memory</b></p>\n",
       "                \n",
       "        <div>\n",
       "            <p><b>SparkContext</b></p>\n",
       "\n",
       "            <p><a href=\"http://air-de-guccis:4040\">Spark UI</a></p>\n",
       "\n",
       "            <dl>\n",
       "              <dt>Version</dt>\n",
       "                <dd><code>v3.3.1</code></dd>\n",
       "              <dt>Master</dt>\n",
       "                <dd><code>local</code></dd>\n",
       "              <dt>AppName</dt>\n",
       "                <dd><code>P8</code></dd>\n",
       "            </dl>\n",
       "        </div>\n",
       "        \n",
       "            </div>\n",
       "        "
      ],
      "text/plain": [
       "<pyspark.sql.session.SparkSession at 0x7fb5831fd5e0>"
      ]
     },
     "execution_count": 5,
     "metadata": {},
     "output_type": "execute_result"
    }
   ],
   "source": [
    "spark"
   ]
  },
  {
   "cell_type": "markdown",
   "id": "a879ef48",
   "metadata": {},
   "source": [
    "## 3. Chargement des données<a class=\"anchor\" id=\"2-bullet\"></a>"
   ]
  },
  {
   "cell_type": "markdown",
   "id": "90d8a44d",
   "metadata": {},
   "source": [
    "### 1. En local<a class=\"anchor\" id=\"3-bullet\"></a>"
   ]
  },
  {
   "cell_type": "code",
   "execution_count": 6,
   "id": "65a7f0b7",
   "metadata": {},
   "outputs": [
    {
     "name": "stdout",
     "output_type": "stream",
     "text": [
      "PATH:        /Users/Gucci/Desktop/P8\n",
      "PATH_Data:   /Users/Gucci/Desktop/P8/fruits_aws/\n",
      "PATH_Result: /Users/Gucci/Desktop/P8/Results\n"
     ]
    }
   ],
   "source": [
    "PATH = os.getcwd()\n",
    "PATH_Data = PATH+'/fruits_aws/'\n",
    "PATH_Result = PATH+'/Results'\n",
    "print('PATH:        '+\\\n",
    "      PATH+'\\nPATH_Data:   '+\\\n",
    "      PATH_Data+'\\nPATH_Result: '+PATH_Result)"
   ]
  },
  {
   "cell_type": "code",
   "execution_count": 7,
   "id": "41798e3e",
   "metadata": {},
   "outputs": [],
   "source": [
    "images = spark.read.format(\"binaryFile\") \\\n",
    "  .option(\"pathGlobFilter\", \"*.jpg\") \\\n",
    "  .option(\"recursiveFileLookup\", \"true\") \\\n",
    "  .load(PATH_Data)"
   ]
  },
  {
   "cell_type": "markdown",
   "id": "32193631",
   "metadata": {},
   "source": [
    "### 2. Via le cloud (AWS S3)<a class=\"anchor\" id=\"4-bullet\"></a>"
   ]
  },
  {
   "cell_type": "code",
   "execution_count": 8,
   "id": "a736f0ea",
   "metadata": {},
   "outputs": [],
   "source": [
    "#NAME_BUCKET = 'ocp8gr'"
   ]
  },
  {
   "cell_type": "code",
   "execution_count": 9,
   "id": "496b2140",
   "metadata": {},
   "outputs": [],
   "source": [
    "#s3_url = f's3://{NAME_BUCKET}'"
   ]
  },
  {
   "cell_type": "code",
   "execution_count": 10,
   "id": "af5e282f",
   "metadata": {},
   "outputs": [],
   "source": [
    "#PATH = 's3_url'\n",
    "#PATH_Data = PATH+'/fruits_aws'\n",
    "#PATH_Result = PATH+'/Results'\n",
    "#print('PATH:        '+\\\n",
    "#      PATH+'\\nPATH_Data:   '+\\\n",
    "#      PATH_Data+'\\nPATH_Result: '+PATH_Result)"
   ]
  },
  {
   "cell_type": "code",
   "execution_count": 11,
   "id": "51cd1879",
   "metadata": {},
   "outputs": [],
   "source": [
    "#images= (spark.read.format('binaryFile')\n",
    "#       .option(\"pathGlobFilter\", \"*.jpg\")\n",
    "#       .option(\"recursiveFileLookup\", \"true\")\n",
    "#       .load(s3_url))"
   ]
  },
  {
   "cell_type": "code",
   "execution_count": 12,
   "id": "4353afc3",
   "metadata": {
    "scrolled": true
   },
   "outputs": [
    {
     "name": "stdout",
     "output_type": "stream",
     "text": [
      "root\n",
      " |-- path: string (nullable = true)\n",
      " |-- modificationTime: timestamp (nullable = true)\n",
      " |-- length: long (nullable = true)\n",
      " |-- content: binary (nullable = true)\n",
      " |-- label: string (nullable = true)\n",
      "\n",
      "None\n",
      "+---------------------------------------------------------------------+------------------+\n",
      "|path                                                                 |label             |\n",
      "+---------------------------------------------------------------------+------------------+\n",
      "|file:/Users/Gucci/Desktop/P8/fruits_aws/Apple Crimson Snow/84_100.jpg|Apple Crimson Snow|\n",
      "|file:/Users/Gucci/Desktop/P8/fruits_aws/Apple Crimson Snow/80_100.jpg|Apple Crimson Snow|\n",
      "|file:/Users/Gucci/Desktop/P8/fruits_aws/Apple Crimson Snow/83_100.jpg|Apple Crimson Snow|\n",
      "|file:/Users/Gucci/Desktop/P8/fruits_aws/Kiwi/6_100.jpg               |Kiwi              |\n",
      "|file:/Users/Gucci/Desktop/P8/fruits_aws/Apple Crimson Snow/81_100.jpg|Apple Crimson Snow|\n",
      "+---------------------------------------------------------------------+------------------+\n",
      "only showing top 5 rows\n",
      "\n",
      "None\n"
     ]
    }
   ],
   "source": [
    "images = images.withColumn('label', element_at(split(images['path'], '/'),-2))\n",
    "print(images.printSchema())\n",
    "print(images.select('path','label').show(5,False))"
   ]
  },
  {
   "cell_type": "code",
   "execution_count": 13,
   "id": "53ee717a",
   "metadata": {
    "scrolled": true
   },
   "outputs": [
    {
     "data": {
      "text/plain": [
       "20"
      ]
     },
     "execution_count": 13,
     "metadata": {},
     "output_type": "execute_result"
    }
   ],
   "source": [
    "images.count()"
   ]
  },
  {
   "cell_type": "markdown",
   "id": "fd1158a7",
   "metadata": {},
   "source": [
    "## 4. Préparation du modèle  du Model ( MobileNetV2)<a class=\"anchor\" id=\"5-bullet\"></a>"
   ]
  },
  {
   "cell_type": "code",
   "execution_count": 14,
   "id": "e9a172c7",
   "metadata": {
    "scrolled": true
   },
   "outputs": [
    {
     "name": "stderr",
     "output_type": "stream",
     "text": [
      "2022-12-06 22:02:31.499598: I tensorflow/core/platform/cpu_feature_guard.cc:193] This TensorFlow binary is optimized with oneAPI Deep Neural Network Library (oneDNN) to use the following CPU instructions in performance-critical operations:  AVX2 FMA\n",
      "To enable them in other operations, rebuild TensorFlow with the appropriate compiler flags.\n"
     ]
    }
   ],
   "source": [
    "model = MobileNetV2(weights='imagenet',\n",
    "                    include_top=True,\n",
    "                    input_shape=(224, 224, 3))"
   ]
  },
  {
   "cell_type": "code",
   "execution_count": 15,
   "id": "93dfcaee",
   "metadata": {},
   "outputs": [],
   "source": [
    "new_model = Model(inputs=model.input, outputs=model.layers[-2].output)"
   ]
  },
  {
   "cell_type": "code",
   "execution_count": 16,
   "id": "d8f1f2c4",
   "metadata": {},
   "outputs": [
    {
     "name": "stdout",
     "output_type": "stream",
     "text": [
      "Model: \"model\"\n",
      "__________________________________________________________________________________________________\n",
      " Layer (type)                   Output Shape         Param #     Connected to                     \n",
      "==================================================================================================\n",
      " input_1 (InputLayer)           [(None, 224, 224, 3  0           []                               \n",
      "                                )]                                                                \n",
      "                                                                                                  \n",
      " Conv1 (Conv2D)                 (None, 112, 112, 32  864         ['input_1[0][0]']                \n",
      "                                )                                                                 \n",
      "                                                                                                  \n",
      " bn_Conv1 (BatchNormalization)  (None, 112, 112, 32  128         ['Conv1[0][0]']                  \n",
      "                                )                                                                 \n",
      "                                                                                                  \n",
      " Conv1_relu (ReLU)              (None, 112, 112, 32  0           ['bn_Conv1[0][0]']               \n",
      "                                )                                                                 \n",
      "                                                                                                  \n",
      " expanded_conv_depthwise (Depth  (None, 112, 112, 32  288        ['Conv1_relu[0][0]']             \n",
      " wiseConv2D)                    )                                                                 \n",
      "                                                                                                  \n",
      " expanded_conv_depthwise_BN (Ba  (None, 112, 112, 32  128        ['expanded_conv_depthwise[0][0]']\n",
      " tchNormalization)              )                                                                 \n",
      "                                                                                                  \n",
      " expanded_conv_depthwise_relu (  (None, 112, 112, 32  0          ['expanded_conv_depthwise_BN[0][0\n",
      " ReLU)                          )                                ]']                              \n",
      "                                                                                                  \n",
      " expanded_conv_project (Conv2D)  (None, 112, 112, 16  512        ['expanded_conv_depthwise_relu[0]\n",
      "                                )                                [0]']                            \n",
      "                                                                                                  \n",
      " expanded_conv_project_BN (Batc  (None, 112, 112, 16  64         ['expanded_conv_project[0][0]']  \n",
      " hNormalization)                )                                                                 \n",
      "                                                                                                  \n",
      " block_1_expand (Conv2D)        (None, 112, 112, 96  1536        ['expanded_conv_project_BN[0][0]'\n",
      "                                )                                ]                                \n",
      "                                                                                                  \n",
      " block_1_expand_BN (BatchNormal  (None, 112, 112, 96  384        ['block_1_expand[0][0]']         \n",
      " ization)                       )                                                                 \n",
      "                                                                                                  \n",
      " block_1_expand_relu (ReLU)     (None, 112, 112, 96  0           ['block_1_expand_BN[0][0]']      \n",
      "                                )                                                                 \n",
      "                                                                                                  \n",
      " block_1_pad (ZeroPadding2D)    (None, 113, 113, 96  0           ['block_1_expand_relu[0][0]']    \n",
      "                                )                                                                 \n",
      "                                                                                                  \n",
      " block_1_depthwise (DepthwiseCo  (None, 56, 56, 96)  864         ['block_1_pad[0][0]']            \n",
      " nv2D)                                                                                            \n",
      "                                                                                                  \n",
      " block_1_depthwise_BN (BatchNor  (None, 56, 56, 96)  384         ['block_1_depthwise[0][0]']      \n",
      " malization)                                                                                      \n",
      "                                                                                                  \n",
      " block_1_depthwise_relu (ReLU)  (None, 56, 56, 96)   0           ['block_1_depthwise_BN[0][0]']   \n",
      "                                                                                                  \n",
      " block_1_project (Conv2D)       (None, 56, 56, 24)   2304        ['block_1_depthwise_relu[0][0]'] \n",
      "                                                                                                  \n",
      " block_1_project_BN (BatchNorma  (None, 56, 56, 24)  96          ['block_1_project[0][0]']        \n",
      " lization)                                                                                        \n",
      "                                                                                                  \n",
      " block_2_expand (Conv2D)        (None, 56, 56, 144)  3456        ['block_1_project_BN[0][0]']     \n",
      "                                                                                                  \n",
      " block_2_expand_BN (BatchNormal  (None, 56, 56, 144)  576        ['block_2_expand[0][0]']         \n",
      " ization)                                                                                         \n",
      "                                                                                                  \n",
      " block_2_expand_relu (ReLU)     (None, 56, 56, 144)  0           ['block_2_expand_BN[0][0]']      \n",
      "                                                                                                  \n",
      " block_2_depthwise (DepthwiseCo  (None, 56, 56, 144)  1296       ['block_2_expand_relu[0][0]']    \n",
      " nv2D)                                                                                            \n",
      "                                                                                                  \n",
      " block_2_depthwise_BN (BatchNor  (None, 56, 56, 144)  576        ['block_2_depthwise[0][0]']      \n",
      " malization)                                                                                      \n",
      "                                                                                                  \n",
      " block_2_depthwise_relu (ReLU)  (None, 56, 56, 144)  0           ['block_2_depthwise_BN[0][0]']   \n",
      "                                                                                                  \n",
      " block_2_project (Conv2D)       (None, 56, 56, 24)   3456        ['block_2_depthwise_relu[0][0]'] \n",
      "                                                                                                  \n",
      " block_2_project_BN (BatchNorma  (None, 56, 56, 24)  96          ['block_2_project[0][0]']        \n",
      " lization)                                                                                        \n",
      "                                                                                                  \n",
      " block_2_add (Add)              (None, 56, 56, 24)   0           ['block_1_project_BN[0][0]',     \n",
      "                                                                  'block_2_project_BN[0][0]']     \n",
      "                                                                                                  \n",
      " block_3_expand (Conv2D)        (None, 56, 56, 144)  3456        ['block_2_add[0][0]']            \n",
      "                                                                                                  \n",
      " block_3_expand_BN (BatchNormal  (None, 56, 56, 144)  576        ['block_3_expand[0][0]']         \n",
      " ization)                                                                                         \n",
      "                                                                                                  \n"
     ]
    },
    {
     "name": "stdout",
     "output_type": "stream",
     "text": [
      " block_3_expand_relu (ReLU)     (None, 56, 56, 144)  0           ['block_3_expand_BN[0][0]']      \n",
      "                                                                                                  \n",
      " block_3_pad (ZeroPadding2D)    (None, 57, 57, 144)  0           ['block_3_expand_relu[0][0]']    \n",
      "                                                                                                  \n",
      " block_3_depthwise (DepthwiseCo  (None, 28, 28, 144)  1296       ['block_3_pad[0][0]']            \n",
      " nv2D)                                                                                            \n",
      "                                                                                                  \n",
      " block_3_depthwise_BN (BatchNor  (None, 28, 28, 144)  576        ['block_3_depthwise[0][0]']      \n",
      " malization)                                                                                      \n",
      "                                                                                                  \n",
      " block_3_depthwise_relu (ReLU)  (None, 28, 28, 144)  0           ['block_3_depthwise_BN[0][0]']   \n",
      "                                                                                                  \n",
      " block_3_project (Conv2D)       (None, 28, 28, 32)   4608        ['block_3_depthwise_relu[0][0]'] \n",
      "                                                                                                  \n",
      " block_3_project_BN (BatchNorma  (None, 28, 28, 32)  128         ['block_3_project[0][0]']        \n",
      " lization)                                                                                        \n",
      "                                                                                                  \n",
      " block_4_expand (Conv2D)        (None, 28, 28, 192)  6144        ['block_3_project_BN[0][0]']     \n",
      "                                                                                                  \n",
      " block_4_expand_BN (BatchNormal  (None, 28, 28, 192)  768        ['block_4_expand[0][0]']         \n",
      " ization)                                                                                         \n",
      "                                                                                                  \n",
      " block_4_expand_relu (ReLU)     (None, 28, 28, 192)  0           ['block_4_expand_BN[0][0]']      \n",
      "                                                                                                  \n",
      " block_4_depthwise (DepthwiseCo  (None, 28, 28, 192)  1728       ['block_4_expand_relu[0][0]']    \n",
      " nv2D)                                                                                            \n",
      "                                                                                                  \n",
      " block_4_depthwise_BN (BatchNor  (None, 28, 28, 192)  768        ['block_4_depthwise[0][0]']      \n",
      " malization)                                                                                      \n",
      "                                                                                                  \n",
      " block_4_depthwise_relu (ReLU)  (None, 28, 28, 192)  0           ['block_4_depthwise_BN[0][0]']   \n",
      "                                                                                                  \n",
      " block_4_project (Conv2D)       (None, 28, 28, 32)   6144        ['block_4_depthwise_relu[0][0]'] \n",
      "                                                                                                  \n",
      " block_4_project_BN (BatchNorma  (None, 28, 28, 32)  128         ['block_4_project[0][0]']        \n",
      " lization)                                                                                        \n",
      "                                                                                                  \n",
      " block_4_add (Add)              (None, 28, 28, 32)   0           ['block_3_project_BN[0][0]',     \n",
      "                                                                  'block_4_project_BN[0][0]']     \n",
      "                                                                                                  \n",
      " block_5_expand (Conv2D)        (None, 28, 28, 192)  6144        ['block_4_add[0][0]']            \n",
      "                                                                                                  \n",
      " block_5_expand_BN (BatchNormal  (None, 28, 28, 192)  768        ['block_5_expand[0][0]']         \n",
      " ization)                                                                                         \n",
      "                                                                                                  \n",
      " block_5_expand_relu (ReLU)     (None, 28, 28, 192)  0           ['block_5_expand_BN[0][0]']      \n",
      "                                                                                                  \n",
      " block_5_depthwise (DepthwiseCo  (None, 28, 28, 192)  1728       ['block_5_expand_relu[0][0]']    \n",
      " nv2D)                                                                                            \n",
      "                                                                                                  \n",
      " block_5_depthwise_BN (BatchNor  (None, 28, 28, 192)  768        ['block_5_depthwise[0][0]']      \n",
      " malization)                                                                                      \n",
      "                                                                                                  \n",
      " block_5_depthwise_relu (ReLU)  (None, 28, 28, 192)  0           ['block_5_depthwise_BN[0][0]']   \n",
      "                                                                                                  \n",
      " block_5_project (Conv2D)       (None, 28, 28, 32)   6144        ['block_5_depthwise_relu[0][0]'] \n",
      "                                                                                                  \n",
      " block_5_project_BN (BatchNorma  (None, 28, 28, 32)  128         ['block_5_project[0][0]']        \n",
      " lization)                                                                                        \n",
      "                                                                                                  \n",
      " block_5_add (Add)              (None, 28, 28, 32)   0           ['block_4_add[0][0]',            \n",
      "                                                                  'block_5_project_BN[0][0]']     \n",
      "                                                                                                  \n",
      " block_6_expand (Conv2D)        (None, 28, 28, 192)  6144        ['block_5_add[0][0]']            \n",
      "                                                                                                  \n",
      " block_6_expand_BN (BatchNormal  (None, 28, 28, 192)  768        ['block_6_expand[0][0]']         \n",
      " ization)                                                                                         \n",
      "                                                                                                  \n",
      " block_6_expand_relu (ReLU)     (None, 28, 28, 192)  0           ['block_6_expand_BN[0][0]']      \n",
      "                                                                                                  \n",
      " block_6_pad (ZeroPadding2D)    (None, 29, 29, 192)  0           ['block_6_expand_relu[0][0]']    \n",
      "                                                                                                  \n",
      " block_6_depthwise (DepthwiseCo  (None, 14, 14, 192)  1728       ['block_6_pad[0][0]']            \n",
      " nv2D)                                                                                            \n",
      "                                                                                                  \n",
      " block_6_depthwise_BN (BatchNor  (None, 14, 14, 192)  768        ['block_6_depthwise[0][0]']      \n",
      " malization)                                                                                      \n",
      "                                                                                                  \n",
      " block_6_depthwise_relu (ReLU)  (None, 14, 14, 192)  0           ['block_6_depthwise_BN[0][0]']   \n",
      "                                                                                                  \n",
      " block_6_project (Conv2D)       (None, 14, 14, 64)   12288       ['block_6_depthwise_relu[0][0]'] \n",
      "                                                                                                  \n",
      " block_6_project_BN (BatchNorma  (None, 14, 14, 64)  256         ['block_6_project[0][0]']        \n"
     ]
    },
    {
     "name": "stdout",
     "output_type": "stream",
     "text": [
      " lization)                                                                                        \n",
      "                                                                                                  \n",
      " block_7_expand (Conv2D)        (None, 14, 14, 384)  24576       ['block_6_project_BN[0][0]']     \n",
      "                                                                                                  \n",
      " block_7_expand_BN (BatchNormal  (None, 14, 14, 384)  1536       ['block_7_expand[0][0]']         \n",
      " ization)                                                                                         \n",
      "                                                                                                  \n",
      " block_7_expand_relu (ReLU)     (None, 14, 14, 384)  0           ['block_7_expand_BN[0][0]']      \n",
      "                                                                                                  \n",
      " block_7_depthwise (DepthwiseCo  (None, 14, 14, 384)  3456       ['block_7_expand_relu[0][0]']    \n",
      " nv2D)                                                                                            \n",
      "                                                                                                  \n",
      " block_7_depthwise_BN (BatchNor  (None, 14, 14, 384)  1536       ['block_7_depthwise[0][0]']      \n",
      " malization)                                                                                      \n",
      "                                                                                                  \n",
      " block_7_depthwise_relu (ReLU)  (None, 14, 14, 384)  0           ['block_7_depthwise_BN[0][0]']   \n",
      "                                                                                                  \n",
      " block_7_project (Conv2D)       (None, 14, 14, 64)   24576       ['block_7_depthwise_relu[0][0]'] \n",
      "                                                                                                  \n",
      " block_7_project_BN (BatchNorma  (None, 14, 14, 64)  256         ['block_7_project[0][0]']        \n",
      " lization)                                                                                        \n",
      "                                                                                                  \n",
      " block_7_add (Add)              (None, 14, 14, 64)   0           ['block_6_project_BN[0][0]',     \n",
      "                                                                  'block_7_project_BN[0][0]']     \n",
      "                                                                                                  \n",
      " block_8_expand (Conv2D)        (None, 14, 14, 384)  24576       ['block_7_add[0][0]']            \n",
      "                                                                                                  \n",
      " block_8_expand_BN (BatchNormal  (None, 14, 14, 384)  1536       ['block_8_expand[0][0]']         \n",
      " ization)                                                                                         \n",
      "                                                                                                  \n",
      " block_8_expand_relu (ReLU)     (None, 14, 14, 384)  0           ['block_8_expand_BN[0][0]']      \n",
      "                                                                                                  \n",
      " block_8_depthwise (DepthwiseCo  (None, 14, 14, 384)  3456       ['block_8_expand_relu[0][0]']    \n",
      " nv2D)                                                                                            \n",
      "                                                                                                  \n",
      " block_8_depthwise_BN (BatchNor  (None, 14, 14, 384)  1536       ['block_8_depthwise[0][0]']      \n",
      " malization)                                                                                      \n",
      "                                                                                                  \n",
      " block_8_depthwise_relu (ReLU)  (None, 14, 14, 384)  0           ['block_8_depthwise_BN[0][0]']   \n",
      "                                                                                                  \n",
      " block_8_project (Conv2D)       (None, 14, 14, 64)   24576       ['block_8_depthwise_relu[0][0]'] \n",
      "                                                                                                  \n",
      " block_8_project_BN (BatchNorma  (None, 14, 14, 64)  256         ['block_8_project[0][0]']        \n",
      " lization)                                                                                        \n",
      "                                                                                                  \n",
      " block_8_add (Add)              (None, 14, 14, 64)   0           ['block_7_add[0][0]',            \n",
      "                                                                  'block_8_project_BN[0][0]']     \n",
      "                                                                                                  \n",
      " block_9_expand (Conv2D)        (None, 14, 14, 384)  24576       ['block_8_add[0][0]']            \n",
      "                                                                                                  \n",
      " block_9_expand_BN (BatchNormal  (None, 14, 14, 384)  1536       ['block_9_expand[0][0]']         \n",
      " ization)                                                                                         \n",
      "                                                                                                  \n",
      " block_9_expand_relu (ReLU)     (None, 14, 14, 384)  0           ['block_9_expand_BN[0][0]']      \n",
      "                                                                                                  \n",
      " block_9_depthwise (DepthwiseCo  (None, 14, 14, 384)  3456       ['block_9_expand_relu[0][0]']    \n",
      " nv2D)                                                                                            \n",
      "                                                                                                  \n",
      " block_9_depthwise_BN (BatchNor  (None, 14, 14, 384)  1536       ['block_9_depthwise[0][0]']      \n",
      " malization)                                                                                      \n",
      "                                                                                                  \n",
      " block_9_depthwise_relu (ReLU)  (None, 14, 14, 384)  0           ['block_9_depthwise_BN[0][0]']   \n",
      "                                                                                                  \n",
      " block_9_project (Conv2D)       (None, 14, 14, 64)   24576       ['block_9_depthwise_relu[0][0]'] \n",
      "                                                                                                  \n",
      " block_9_project_BN (BatchNorma  (None, 14, 14, 64)  256         ['block_9_project[0][0]']        \n",
      " lization)                                                                                        \n",
      "                                                                                                  \n",
      " block_9_add (Add)              (None, 14, 14, 64)   0           ['block_8_add[0][0]',            \n",
      "                                                                  'block_9_project_BN[0][0]']     \n",
      "                                                                                                  \n",
      " block_10_expand (Conv2D)       (None, 14, 14, 384)  24576       ['block_9_add[0][0]']            \n",
      "                                                                                                  \n",
      " block_10_expand_BN (BatchNorma  (None, 14, 14, 384)  1536       ['block_10_expand[0][0]']        \n",
      " lization)                                                                                        \n",
      "                                                                                                  \n",
      " block_10_expand_relu (ReLU)    (None, 14, 14, 384)  0           ['block_10_expand_BN[0][0]']     \n",
      "                                                                                                  \n",
      " block_10_depthwise (DepthwiseC  (None, 14, 14, 384)  3456       ['block_10_expand_relu[0][0]']   \n",
      " onv2D)                                                                                           \n",
      "                                                                                                  \n",
      " block_10_depthwise_BN (BatchNo  (None, 14, 14, 384)  1536       ['block_10_depthwise[0][0]']     \n",
      " rmalization)                                                                                     \n"
     ]
    },
    {
     "name": "stdout",
     "output_type": "stream",
     "text": [
      "                                                                                                  \n",
      " block_10_depthwise_relu (ReLU)  (None, 14, 14, 384)  0          ['block_10_depthwise_BN[0][0]']  \n",
      "                                                                                                  \n",
      " block_10_project (Conv2D)      (None, 14, 14, 96)   36864       ['block_10_depthwise_relu[0][0]']\n",
      "                                                                                                  \n",
      " block_10_project_BN (BatchNorm  (None, 14, 14, 96)  384         ['block_10_project[0][0]']       \n",
      " alization)                                                                                       \n",
      "                                                                                                  \n",
      " block_11_expand (Conv2D)       (None, 14, 14, 576)  55296       ['block_10_project_BN[0][0]']    \n",
      "                                                                                                  \n",
      " block_11_expand_BN (BatchNorma  (None, 14, 14, 576)  2304       ['block_11_expand[0][0]']        \n",
      " lization)                                                                                        \n",
      "                                                                                                  \n",
      " block_11_expand_relu (ReLU)    (None, 14, 14, 576)  0           ['block_11_expand_BN[0][0]']     \n",
      "                                                                                                  \n",
      " block_11_depthwise (DepthwiseC  (None, 14, 14, 576)  5184       ['block_11_expand_relu[0][0]']   \n",
      " onv2D)                                                                                           \n",
      "                                                                                                  \n",
      " block_11_depthwise_BN (BatchNo  (None, 14, 14, 576)  2304       ['block_11_depthwise[0][0]']     \n",
      " rmalization)                                                                                     \n",
      "                                                                                                  \n",
      " block_11_depthwise_relu (ReLU)  (None, 14, 14, 576)  0          ['block_11_depthwise_BN[0][0]']  \n",
      "                                                                                                  \n",
      " block_11_project (Conv2D)      (None, 14, 14, 96)   55296       ['block_11_depthwise_relu[0][0]']\n",
      "                                                                                                  \n",
      " block_11_project_BN (BatchNorm  (None, 14, 14, 96)  384         ['block_11_project[0][0]']       \n",
      " alization)                                                                                       \n",
      "                                                                                                  \n",
      " block_11_add (Add)             (None, 14, 14, 96)   0           ['block_10_project_BN[0][0]',    \n",
      "                                                                  'block_11_project_BN[0][0]']    \n",
      "                                                                                                  \n",
      " block_12_expand (Conv2D)       (None, 14, 14, 576)  55296       ['block_11_add[0][0]']           \n",
      "                                                                                                  \n",
      " block_12_expand_BN (BatchNorma  (None, 14, 14, 576)  2304       ['block_12_expand[0][0]']        \n",
      " lization)                                                                                        \n",
      "                                                                                                  \n",
      " block_12_expand_relu (ReLU)    (None, 14, 14, 576)  0           ['block_12_expand_BN[0][0]']     \n",
      "                                                                                                  \n",
      " block_12_depthwise (DepthwiseC  (None, 14, 14, 576)  5184       ['block_12_expand_relu[0][0]']   \n",
      " onv2D)                                                                                           \n",
      "                                                                                                  \n",
      " block_12_depthwise_BN (BatchNo  (None, 14, 14, 576)  2304       ['block_12_depthwise[0][0]']     \n",
      " rmalization)                                                                                     \n",
      "                                                                                                  \n",
      " block_12_depthwise_relu (ReLU)  (None, 14, 14, 576)  0          ['block_12_depthwise_BN[0][0]']  \n",
      "                                                                                                  \n",
      " block_12_project (Conv2D)      (None, 14, 14, 96)   55296       ['block_12_depthwise_relu[0][0]']\n",
      "                                                                                                  \n",
      " block_12_project_BN (BatchNorm  (None, 14, 14, 96)  384         ['block_12_project[0][0]']       \n",
      " alization)                                                                                       \n",
      "                                                                                                  \n",
      " block_12_add (Add)             (None, 14, 14, 96)   0           ['block_11_add[0][0]',           \n",
      "                                                                  'block_12_project_BN[0][0]']    \n",
      "                                                                                                  \n",
      " block_13_expand (Conv2D)       (None, 14, 14, 576)  55296       ['block_12_add[0][0]']           \n",
      "                                                                                                  \n",
      " block_13_expand_BN (BatchNorma  (None, 14, 14, 576)  2304       ['block_13_expand[0][0]']        \n",
      " lization)                                                                                        \n",
      "                                                                                                  \n",
      " block_13_expand_relu (ReLU)    (None, 14, 14, 576)  0           ['block_13_expand_BN[0][0]']     \n",
      "                                                                                                  \n",
      " block_13_pad (ZeroPadding2D)   (None, 15, 15, 576)  0           ['block_13_expand_relu[0][0]']   \n",
      "                                                                                                  \n",
      " block_13_depthwise (DepthwiseC  (None, 7, 7, 576)   5184        ['block_13_pad[0][0]']           \n",
      " onv2D)                                                                                           \n",
      "                                                                                                  \n",
      " block_13_depthwise_BN (BatchNo  (None, 7, 7, 576)   2304        ['block_13_depthwise[0][0]']     \n",
      " rmalization)                                                                                     \n",
      "                                                                                                  \n",
      " block_13_depthwise_relu (ReLU)  (None, 7, 7, 576)   0           ['block_13_depthwise_BN[0][0]']  \n",
      "                                                                                                  \n",
      " block_13_project (Conv2D)      (None, 7, 7, 160)    92160       ['block_13_depthwise_relu[0][0]']\n",
      "                                                                                                  \n",
      " block_13_project_BN (BatchNorm  (None, 7, 7, 160)   640         ['block_13_project[0][0]']       \n",
      " alization)                                                                                       \n",
      "                                                                                                  \n",
      " block_14_expand (Conv2D)       (None, 7, 7, 960)    153600      ['block_13_project_BN[0][0]']    \n",
      "                                                                                                  \n",
      " block_14_expand_BN (BatchNorma  (None, 7, 7, 960)   3840        ['block_14_expand[0][0]']        \n",
      " lization)                                                                                        \n",
      "                                                                                                  \n",
      " block_14_expand_relu (ReLU)    (None, 7, 7, 960)    0           ['block_14_expand_BN[0][0]']     \n",
      "                                                                                                  \n"
     ]
    },
    {
     "name": "stdout",
     "output_type": "stream",
     "text": [
      " block_14_depthwise (DepthwiseC  (None, 7, 7, 960)   8640        ['block_14_expand_relu[0][0]']   \n",
      " onv2D)                                                                                           \n",
      "                                                                                                  \n",
      " block_14_depthwise_BN (BatchNo  (None, 7, 7, 960)   3840        ['block_14_depthwise[0][0]']     \n",
      " rmalization)                                                                                     \n",
      "                                                                                                  \n",
      " block_14_depthwise_relu (ReLU)  (None, 7, 7, 960)   0           ['block_14_depthwise_BN[0][0]']  \n",
      "                                                                                                  \n",
      " block_14_project (Conv2D)      (None, 7, 7, 160)    153600      ['block_14_depthwise_relu[0][0]']\n",
      "                                                                                                  \n",
      " block_14_project_BN (BatchNorm  (None, 7, 7, 160)   640         ['block_14_project[0][0]']       \n",
      " alization)                                                                                       \n",
      "                                                                                                  \n",
      " block_14_add (Add)             (None, 7, 7, 160)    0           ['block_13_project_BN[0][0]',    \n",
      "                                                                  'block_14_project_BN[0][0]']    \n",
      "                                                                                                  \n",
      " block_15_expand (Conv2D)       (None, 7, 7, 960)    153600      ['block_14_add[0][0]']           \n",
      "                                                                                                  \n",
      " block_15_expand_BN (BatchNorma  (None, 7, 7, 960)   3840        ['block_15_expand[0][0]']        \n",
      " lization)                                                                                        \n",
      "                                                                                                  \n",
      " block_15_expand_relu (ReLU)    (None, 7, 7, 960)    0           ['block_15_expand_BN[0][0]']     \n",
      "                                                                                                  \n",
      " block_15_depthwise (DepthwiseC  (None, 7, 7, 960)   8640        ['block_15_expand_relu[0][0]']   \n",
      " onv2D)                                                                                           \n",
      "                                                                                                  \n",
      " block_15_depthwise_BN (BatchNo  (None, 7, 7, 960)   3840        ['block_15_depthwise[0][0]']     \n",
      " rmalization)                                                                                     \n",
      "                                                                                                  \n",
      " block_15_depthwise_relu (ReLU)  (None, 7, 7, 960)   0           ['block_15_depthwise_BN[0][0]']  \n",
      "                                                                                                  \n",
      " block_15_project (Conv2D)      (None, 7, 7, 160)    153600      ['block_15_depthwise_relu[0][0]']\n",
      "                                                                                                  \n",
      " block_15_project_BN (BatchNorm  (None, 7, 7, 160)   640         ['block_15_project[0][0]']       \n",
      " alization)                                                                                       \n",
      "                                                                                                  \n",
      " block_15_add (Add)             (None, 7, 7, 160)    0           ['block_14_add[0][0]',           \n",
      "                                                                  'block_15_project_BN[0][0]']    \n",
      "                                                                                                  \n",
      " block_16_expand (Conv2D)       (None, 7, 7, 960)    153600      ['block_15_add[0][0]']           \n",
      "                                                                                                  \n",
      " block_16_expand_BN (BatchNorma  (None, 7, 7, 960)   3840        ['block_16_expand[0][0]']        \n",
      " lization)                                                                                        \n",
      "                                                                                                  \n",
      " block_16_expand_relu (ReLU)    (None, 7, 7, 960)    0           ['block_16_expand_BN[0][0]']     \n",
      "                                                                                                  \n",
      " block_16_depthwise (DepthwiseC  (None, 7, 7, 960)   8640        ['block_16_expand_relu[0][0]']   \n",
      " onv2D)                                                                                           \n",
      "                                                                                                  \n",
      " block_16_depthwise_BN (BatchNo  (None, 7, 7, 960)   3840        ['block_16_depthwise[0][0]']     \n",
      " rmalization)                                                                                     \n",
      "                                                                                                  \n",
      " block_16_depthwise_relu (ReLU)  (None, 7, 7, 960)   0           ['block_16_depthwise_BN[0][0]']  \n",
      "                                                                                                  \n",
      " block_16_project (Conv2D)      (None, 7, 7, 320)    307200      ['block_16_depthwise_relu[0][0]']\n",
      "                                                                                                  \n",
      " block_16_project_BN (BatchNorm  (None, 7, 7, 320)   1280        ['block_16_project[0][0]']       \n",
      " alization)                                                                                       \n",
      "                                                                                                  \n",
      " Conv_1 (Conv2D)                (None, 7, 7, 1280)   409600      ['block_16_project_BN[0][0]']    \n",
      "                                                                                                  \n",
      " Conv_1_bn (BatchNormalization)  (None, 7, 7, 1280)  5120        ['Conv_1[0][0]']                 \n",
      "                                                                                                  \n",
      " out_relu (ReLU)                (None, 7, 7, 1280)   0           ['Conv_1_bn[0][0]']              \n",
      "                                                                                                  \n",
      " global_average_pooling2d (Glob  (None, 1280)        0           ['out_relu[0][0]']               \n",
      " alAveragePooling2D)                                                                              \n",
      "                                                                                                  \n",
      "==================================================================================================\n",
      "Total params: 2,257,984\n",
      "Trainable params: 2,223,872\n",
      "Non-trainable params: 34,112\n",
      "__________________________________________________________________________________________________\n"
     ]
    }
   ],
   "source": [
    "new_model.summary()"
   ]
  },
  {
   "cell_type": "code",
   "execution_count": 17,
   "id": "b7b3aef4",
   "metadata": {},
   "outputs": [],
   "source": [
    "brodcast_weights = sc.broadcast(new_model.get_weights())"
   ]
  },
  {
   "cell_type": "markdown",
   "id": "ff894201",
   "metadata": {},
   "source": [
    "## 5.Prétraitement des images et Extraction des features<a class=\"anchor\" id=\"6-bullet\"></a>"
   ]
  },
  {
   "cell_type": "code",
   "execution_count": 18,
   "id": "4dc59043",
   "metadata": {},
   "outputs": [],
   "source": [
    "def model_fn():\n",
    "    \"\"\"\n",
    "    Returns a MobileNetV2 model with top layer removed \n",
    "    and broadcasted pretrained weights.\n",
    "    \"\"\"\n",
    "    model = MobileNetV2(weights='imagenet',\n",
    "                        include_top=True,\n",
    "                        input_shape=(224, 224, 3))\n",
    "    for layer in model.layers:\n",
    "        layer.trainable = False\n",
    "    new_model = Model(inputs=model.input,\n",
    "                  outputs=model.layers[-2].output)\n",
    "    new_model.set_weights(brodcast_weights.value)\n",
    "    return new_model"
   ]
  },
  {
   "cell_type": "code",
   "execution_count": 19,
   "id": "5d37203d",
   "metadata": {},
   "outputs": [],
   "source": [
    "def preprocess(content):\n",
    "    \"\"\"\n",
    "    Preprocesses raw image bytes for prediction.\n",
    "    \"\"\"\n",
    "    img = Image.open(io.BytesIO(content)).resize([224, 224])\n",
    "    arr = img_to_array(img)\n",
    "    return preprocess_input(arr)\n",
    "\n",
    "def featurize_series(model, content_series):\n",
    "    \"\"\"\n",
    "    Featurize a pd.Series of raw images using the input model.\n",
    "    :return: a pd.Series of image features\n",
    "    \"\"\"\n",
    "    input = np.stack(content_series.map(preprocess))\n",
    "    preds = model.predict(input)\n",
    "    # For some layers, output features will be multi-dimensional tensors.\n",
    "    # We flatten the feature tensors to vectors for easier storage in Spark DataFrames.\n",
    "    output = [p.flatten() for p in preds]\n",
    "    return pd.Series(output)"
   ]
  },
  {
   "cell_type": "code",
   "execution_count": 20,
   "id": "dd0fac35",
   "metadata": {},
   "outputs": [
    {
     "name": "stderr",
     "output_type": "stream",
     "text": [
      "Clipping input data to the valid range for imshow with RGB data ([0..1] for floats or [0..255] for integers).\n"
     ]
    },
    {
     "data": {
      "image/png": "[encoded data removed]",
      "text/plain": [
       "<Figure size 432x288 with 2 Axes>"
      ]
     },
     "metadata": {
      "needs_background": "light"
     },
     "output_type": "display_data"
    }
   ],
   "source": [
    "# Show preprocess effect on image\n",
    "img = images.first()[\"content\"]\n",
    "fig, axs = plt.subplots(1, 2)\n",
    "axs[0].imshow(Image.open(io.BytesIO(img)))\n",
    "axs[0].set_title('Raw image')\n",
    "axs[1].imshow(preprocess(img))\n",
    "axs[1].set_title('Processed image')\n",
    "plt.show()"
   ]
  },
  {
   "cell_type": "code",
   "execution_count": 21,
   "id": "325b1447",
   "metadata": {},
   "outputs": [],
   "source": [
    "@pandas_udf('array<float>', PandasUDFType.SCALAR_ITER)\n",
    "def featurize_udf(content_series_iter):\n",
    "    '''\n",
    "    This method is a Scalar Iterator pandas UDF wrapping our featurization function.\n",
    "    The decorator specifies that this returns a Spark DataFrame column of type ArrayType(FloatType).\n",
    "  \n",
    "    :param content_series_iter: This argument is an iterator over batches of data, where each batch\n",
    "                              is a pandas Series of image data.\n",
    "    '''\n",
    "    # With Scalar Iterator pandas UDFs, we can load the model once and then re-use it\n",
    "    # for multiple data batches.  This amortizes the overhead of loading big models.\n",
    "    model = model_fn()\n",
    "    for content_series in content_series_iter:\n",
    "        yield featurize_series(model, content_series)"
   ]
  },
  {
   "cell_type": "code",
   "execution_count": 22,
   "id": "2c925cbd",
   "metadata": {},
   "outputs": [],
   "source": [
    "features_df = images.repartition(20).select(col(\"path\"),\n",
    "                                            col(\"label\"),\n",
    "                                            featurize_udf(\"content\").alias(\"features\")\n",
    "                                           )"
   ]
  },
  {
   "cell_type": "code",
   "execution_count": 23,
   "id": "3eddd72c",
   "metadata": {
    "scrolled": true
   },
   "outputs": [],
   "source": [
    "# création d'UDF qui transforme chaque ligne vers un vecteur\n",
    "list_to_vector_udf = udf(lambda l: Vectors.dense(l), VectorUDT())"
   ]
  },
  {
   "cell_type": "code",
   "execution_count": 24,
   "id": "6f978480",
   "metadata": {},
   "outputs": [],
   "source": [
    "# appliquer \"featurize_udf\" sur tout le dataframe\n",
    "features_df = images.repartition(16).select(col('path'), featurize_udf('content').alias('features'))\n",
    "# appliquer \"list_to_vector_udf\" sur tout le dataframe\n",
    "features_df = features_df.withColumn(\"features_udf\", list_to_vector_udf(col(\"features\")))"
   ]
  },
  {
   "cell_type": "code",
   "execution_count": 25,
   "id": "e5eb62ef",
   "metadata": {},
   "outputs": [
    {
     "name": "stderr",
     "output_type": "stream",
     "text": [
      "2022-12-06 22:02:38.131362: I tensorflow/core/platform/cpu_feature_guard.cc:193] This TensorFlow binary is optimized with oneAPI Deep Neural Network Library (oneDNN) to use the following CPU instructions in performance-critical operations:  AVX2 FMA\n",
      "To enable them in other operations, rebuild TensorFlow with the appropriate compiler flags.\n",
      "2022-12-06 22:02:43.562604: I tensorflow/core/platform/cpu_feature_guard.cc:193] This TensorFlow binary is optimized with oneAPI Deep Neural Network Library (oneDNN) to use the following CPU instructions in performance-critical operations:  AVX2 FMA\n",
      "To enable them in other operations, rebuild TensorFlow with the appropriate compiler flags.\n",
      "1/1 [==============================] - 1s 1s/step\n",
      "1/1 [==============================] - 1s 822ms/step                (0 + 1) / 4]\n",
      "1/1 [==============================] - 1s 797ms/step                (1 + 1) / 4]\n",
      "1/1 [==============================] - 1s 776ms/step                (2 + 1) / 4]\n",
      "WARNING:tensorflow:5 out of the last 5 calls to <function Model.make_predict_function.<locals>.predict_function at 0x7fb2c9096670> triggered tf.function retracing. Tracing is expensive and the excessive number of tracings could be due to (1) creating @tf.function repeatedly in a loop, (2) passing tensors with different shapes, (3) passing Python objects instead of tensors. For (1), please define your @tf.function outside of the loop. For (2), @tf.function has reduce_retracing=True option that can avoid unnecessary retracing. For (3), please refer to https://www.tensorflow.org/guide/function#controlling_retracing and https://www.tensorflow.org/api_docs/python/tf/function for  more details.\n",
      "1/1 [==============================] - 1s 814ms/step\n",
      "WARNING:tensorflow:6 out of the last 6 calls to <function Model.make_predict_function.<locals>.predict_function at 0x7fb2c830ed30> triggered tf.function retracing. Tracing is expensive and the excessive number of tracings could be due to (1) creating @tf.function repeatedly in a loop, (2) passing tensors with different shapes, (3) passing Python objects instead of tensors. For (1), please define your @tf.function outside of the loop. For (2), @tf.function has reduce_retracing=True option that can avoid unnecessary retracing. For (3), please refer to https://www.tensorflow.org/guide/function#controlling_retracing and https://www.tensorflow.org/api_docs/python/tf/function for  more details.\n",
      "1/1 [==============================] - 1s 808ms/step\n",
      "1/1 [==============================] - 1s 820ms/step               (1 + 1) / 11]\n",
      "1/1 [==============================] - 1s 807ms/step               (2 + 1) / 11]\n",
      "1/1 [==============================] - 1s 782ms/step               (3 + 1) / 11]\n",
      "1/1 [==============================] - 1s 796ms/step               (4 + 1) / 11]\n",
      "1/1 [==============================] - 1s 781ms/step               (5 + 1) / 11]\n",
      "1/1 [==============================] - 1s 796ms/step               (6 + 1) / 11]\n",
      "1/1 [==============================] - 1s 779ms/step               (7 + 1) / 11]\n",
      "1/1 [==============================] - 1s 790ms/step               (8 + 1) / 11]\n",
      "1/1 [==============================] - 1s 781ms/step====>          (9 + 1) / 11]\n",
      "[Stage 11:==================================================>     (10 + 1) / 11]\r"
     ]
    },
    {
     "name": "stdout",
     "output_type": "stream",
     "text": [
      "+--------------------+--------------------+--------------------+\n",
      "|                path|            features|        features_udf|\n",
      "+--------------------+--------------------+--------------------+\n",
      "|file:/Users/Gucci...|[0.9761678, 0.0, ...|[0.97616779804229...|\n",
      "|file:/Users/Gucci...|[0.3310693, 0.0, ...|[0.33106929063796...|\n",
      "|file:/Users/Gucci...|[1.5691199, 0.0, ...|[1.56911993026733...|\n",
      "|file:/Users/Gucci...|[0.39133763, 0.0,...|[0.39133763313293...|\n",
      "|file:/Users/Gucci...|[1.5477298, 0.0, ...|[1.54772984981536...|\n",
      "|file:/Users/Gucci...|[0.38478822, 0.0,...|[0.38478821516036...|\n",
      "|file:/Users/Gucci...|[1.0014192, 0.010...|[1.00141918659210...|\n",
      "|file:/Users/Gucci...|[1.4642531, 0.0, ...|[1.46425306797027...|\n",
      "|file:/Users/Gucci...|[1.5605391, 0.0, ...|[1.56053912639617...|\n",
      "|file:/Users/Gucci...|[1.2494104, 0.0, ...|[1.24941039085388...|\n",
      "|file:/Users/Gucci...|[0.11115312, 0.0,...|[0.11115311831235...|\n",
      "|file:/Users/Gucci...|[1.0829992, 0.006...|[1.08299922943115...|\n",
      "|file:/Users/Gucci...|[0.6731639, 0.0, ...|[0.67316389083862...|\n",
      "|file:/Users/Gucci...|[0.6665868, 0.0, ...|[0.66658681631088...|\n",
      "|file:/Users/Gucci...|[0.5261612, 0.0, ...|[0.52616119384765...|\n",
      "|file:/Users/Gucci...|[0.97736186, 0.00...|[0.97736185789108...|\n",
      "|file:/Users/Gucci...|[1.2273118, 0.0, ...|[1.22731184959411...|\n",
      "|file:/Users/Gucci...|[0.7831543, 0.058...|[0.78315430879592...|\n",
      "|file:/Users/Gucci...|[0.14596343, 0.0,...|[0.14596343040466...|\n",
      "|file:/Users/Gucci...|[0.29964668, 0.0,...|[0.29964667558670...|\n",
      "+--------------------+--------------------+--------------------+\n",
      "\n"
     ]
    },
    {
     "name": "stderr",
     "output_type": "stream",
     "text": [
      "\r",
      "1/1 [==============================] - ETA: 0s\b\b\b\b\b\b\b\b\b\b\b\b\b\b\b\b\b\b\b\b\b\b\b\b\b\b\b\b\b\b\b\b\b\b\b\b\b\b\b\b\b\b\b\b\b\b\r",
      "1/1 [==============================] - 1s 784ms/step\n",
      "\r",
      "                                                                                \r"
     ]
    }
   ],
   "source": [
    "features_df.show()"
   ]
  },
  {
   "cell_type": "markdown",
   "id": "104c815f",
   "metadata": {},
   "source": [
    "## 6.Standardisation des features<a class=\"anchor\" id=\"7-bullet\"></a>"
   ]
  },
  {
   "cell_type": "code",
   "execution_count": 26,
   "id": "f8433281",
   "metadata": {},
   "outputs": [
    {
     "name": "stderr",
     "output_type": "stream",
     "text": [
      "1/1 [==============================] - 1s 792ms/step               (0 + 1) / 16]\n",
      "1/1 [==============================] - 1s 790ms/step               (1 + 1) / 16]\n",
      "1/1 [==============================] - 1s 920ms/step               (2 + 1) / 16]\n",
      "1/1 [==============================] - 1s 809ms/step               (3 + 1) / 16]\n",
      "1/1 [==============================] - 1s 847ms/step               (4 + 1) / 16]\n",
      "1/1 [==============================] - 1s 829ms/step               (5 + 1) / 16]\n",
      "1/1 [==============================] - 1s 827ms/step               (6 + 1) / 16]\n",
      "1/1 [==============================] - 1s 831ms/step               (7 + 1) / 16]\n",
      "1/1 [==============================] - 1s 817ms/step               (8 + 1) / 16]\n",
      "1/1 [==============================] - 1s 802ms/step               (9 + 1) / 16]\n",
      "1/1 [==============================] - 1s 788ms/step              (10 + 1) / 16]\n",
      "1/1 [==============================] - 1s 935ms/step              (11 + 1) / 16]\n",
      "1/1 [==============================] - 1s 794ms/step>             (12 + 1) / 16]\n",
      "1/1 [==============================] - 1s 785ms/step===>          (13 + 1) / 16]\n",
      "1/1 [==============================] - 1s 784ms/step=======>      (14 + 1) / 16]\n",
      "1/1 [==============================] - 1s 796ms/step==========>   (15 + 1) / 16]\n",
      "                                                                                \r"
     ]
    }
   ],
   "source": [
    "scaler = StandardScaler(\n",
    "    inputCol=\"features_udf\", \n",
    "    outputCol=\"features_scaled\")\n",
    "\n",
    "data_scaled = scaler.fit(features_df).transform(features_df)"
   ]
  },
  {
   "cell_type": "code",
   "execution_count": 27,
   "id": "0856b5c8",
   "metadata": {},
   "outputs": [
    {
     "name": "stderr",
     "output_type": "stream",
     "text": [
      "1/1 [==============================] - 1s 804ms/step                (0 + 1) / 1]\n",
      "1/1 [==============================] - 1s 805ms/step                (0 + 1) / 4]\n",
      "1/1 [==============================] - 1s 811ms/step                (1 + 1) / 4]\n",
      "1/1 [==============================] - 1s 817ms/step                (2 + 1) / 4]\n",
      "1/1 [==============================] - 1s 972ms/step=>              (3 + 1) / 4]\n",
      "1/1 [==============================] - 1s 823ms/step               (0 + 1) / 11]\n",
      "1/1 [==============================] - 1s 823ms/step               (1 + 1) / 11]\n",
      "1/1 [==============================] - 1s 832ms/step               (2 + 1) / 11]\n",
      "1/1 [==============================] - 1s 817ms/step               (3 + 1) / 11]\n",
      "1/1 [==============================] - 1s 834ms/step               (4 + 1) / 11]\n",
      "1/1 [==============================] - 1s 786ms/step               (5 + 1) / 11]\n",
      "1/1 [==============================] - 1s 784ms/step               (6 + 1) / 11]\n",
      "1/1 [==============================] - 1s 789ms/step               (7 + 1) / 11]\n",
      "1/1 [==============================] - 1s 795ms/step               (8 + 1) / 11]\n",
      "1/1 [==============================] - 1s 785ms/step====>          (9 + 1) / 11]\n",
      "[Stage 24:==================================================>     (10 + 1) / 11]\r"
     ]
    },
    {
     "name": "stdout",
     "output_type": "stream",
     "text": [
      "+--------------------+--------------------+--------------------+--------------------+\n",
      "|                path|            features|        features_udf|     features_scaled|\n",
      "+--------------------+--------------------+--------------------+--------------------+\n",
      "|file:/Users/Gucci...|[0.9761678, 0.0, ...|[0.97616779804229...|[2.00313887785069...|\n",
      "|file:/Users/Gucci...|[0.3310693, 0.0, ...|[0.33106929063796...|[0.67936861743377...|\n",
      "|file:/Users/Gucci...|[1.5691199, 0.0, ...|[1.56911993026733...|[3.21990250306605...|\n",
      "|file:/Users/Gucci...|[0.39133763, 0.0,...|[0.39133763313293...|[0.80304188364620...|\n",
      "|file:/Users/Gucci...|[1.5477298, 0.0, ...|[1.54772984981536...|[3.17600912547296...|\n",
      "|file:/Users/Gucci...|[0.38478822, 0.0,...|[0.38478821516036...|[0.78960219244306...|\n",
      "|file:/Users/Gucci...|[1.0014192, 0.010...|[1.00141918659210...|[2.05495582799520...|\n",
      "|file:/Users/Gucci...|[1.4642531, 0.0, ...|[1.46425306797027...|[3.00471112993662...|\n",
      "|file:/Users/Gucci...|[1.5605391, 0.0, ...|[1.56053912639617...|[3.20229431944025...|\n",
      "|file:/Users/Gucci...|[1.2494104, 0.0, ...|[1.24941039085388...|[2.56384459037605...|\n",
      "|file:/Users/Gucci...|[0.11115312, 0.0,...|[0.11115311831235...|[0.22809104452365...|\n",
      "|file:/Users/Gucci...|[1.0829992, 0.006...|[1.08299922943115...|[2.22236163240235...|\n",
      "|file:/Users/Gucci...|[0.6731639, 0.0, ...|[0.67316389083862...|[1.38136165074117...|\n",
      "|file:/Users/Gucci...|[0.6665868, 0.0, ...|[0.66658681631088...|[1.36786520708112...|\n",
      "|file:/Users/Gucci...|[0.5261612, 0.0, ...|[0.52616119384765...|[1.07970570789808...|\n",
      "|file:/Users/Gucci...|[0.97736186, 0.00...|[0.97736185789108...|[2.00558914071572...|\n",
      "|file:/Users/Gucci...|[1.2273118, 0.0, ...|[1.22731184959411...|[2.51849742031983...|\n",
      "|file:/Users/Gucci...|[0.7831543, 0.058...|[0.78315430879592...|[1.60706678344806...|\n",
      "|file:/Users/Gucci...|[0.14596343, 0.0,...|[0.14596343040466...|[0.29952332250091...|\n",
      "|file:/Users/Gucci...|[0.29964668, 0.0,...|[0.29964667558670...|[0.61488804147217...|\n",
      "+--------------------+--------------------+--------------------+--------------------+\n",
      "\n"
     ]
    },
    {
     "name": "stderr",
     "output_type": "stream",
     "text": [
      "\r",
      "1/1 [==============================] - ETA: 0s\b\b\b\b\b\b\b\b\b\b\b\b\b\b\b\b\b\b\b\b\b\b\b\b\b\b\b\b\b\b\b\b\b\b\b\b\b\b\b\b\b\b\b\b\b\b\r",
      "1/1 [==============================] - 1s 801ms/step\n",
      "\r",
      "                                                                                \r"
     ]
    }
   ],
   "source": [
    "data_scaled.show()"
   ]
  },
  {
   "cell_type": "markdown",
   "id": "4f32e60c",
   "metadata": {},
   "source": [
    "## 7.Réduction de dimension : PCA<a class=\"anchor\" id=\"8-bullet\"></a>"
   ]
  },
  {
   "cell_type": "code",
   "execution_count": 28,
   "id": "19f071b8",
   "metadata": {},
   "outputs": [
    {
     "name": "stderr",
     "output_type": "stream",
     "text": [
      "1/1 [==============================] - 1s 794ms/step                (0 + 1) / 1]\n",
      "1/1 [==============================] - 1s 814ms/step                (0 + 1) / 1]\n",
      "1/1 [==============================] - 1s 794ms/step               (0 + 1) / 16]\n",
      "1/1 [==============================] - 1s 798ms/step               (1 + 1) / 16]\n",
      "1/1 [==============================] - 1s 793ms/step               (2 + 1) / 16]\n",
      "1/1 [==============================] - 1s 799ms/step               (3 + 1) / 16]\n",
      "1/1 [==============================] - 1s 873ms/step               (4 + 1) / 16]\n",
      "1/1 [==============================] - 1s 843ms/step               (5 + 1) / 16]\n",
      "1/1 [==============================] - 1s 828ms/step               (6 + 1) / 16]\n",
      "1/1 [==============================] - 1s 817ms/step               (7 + 1) / 16]\n",
      "1/1 [==============================] - 1s 794ms/step               (8 + 1) / 16]\n",
      "1/1 [==============================] - 1s 798ms/step               (9 + 1) / 16]\n",
      "1/1 [==============================] - 1s 778ms/step              (10 + 1) / 16]\n",
      "1/1 [==============================] - 1s 791ms/step              (11 + 1) / 16]\n",
      "1/1 [==============================] - 1s 777ms/step>             (12 + 1) / 16]\n",
      "1/1 [==============================] - 1s 779ms/step===>          (13 + 1) / 16]\n",
      "1/1 [==============================] - 1s 787ms/step=======>      (14 + 1) / 16]\n",
      "1/1 [==============================] - 1s 805ms/step==========>   (15 + 1) / 16]\n",
      "1/1 [==============================] - 1s 795ms/step                (0 + 1) / 1]\n",
      "1/1 [==============================] - 1s 849ms/step               (0 + 1) / 16]\n",
      "1/1 [==============================] - 1s 801ms/step               (1 + 1) / 16]\n",
      "1/1 [==============================] - 1s 855ms/step               (2 + 1) / 16]\n",
      "1/1 [==============================] - 1s 795ms/step               (3 + 1) / 16]\n",
      "1/1 [==============================] - 1s 821ms/step               (4 + 1) / 16]\n",
      "1/1 [==============================] - 1s 854ms/step               (5 + 1) / 16]\n",
      "1/1 [==============================] - 1s 819ms/step               (6 + 1) / 16]\n",
      "1/1 [==============================] - 1s 828ms/step               (7 + 1) / 16]\n",
      "1/1 [==============================] - 1s 790ms/step               (8 + 1) / 16]\n",
      "1/1 [==============================] - 1s 863ms/step               (9 + 1) / 16]\n",
      "1/1 [==============================] - 1s 827ms/step              (10 + 1) / 16]\n",
      "1/1 [==============================] - 1s 791ms/step              (11 + 1) / 16]\n",
      "1/1 [==============================] - 1s 785ms/step>             (12 + 1) / 16]\n",
      "1/1 [==============================] - 1s 781ms/step===>          (13 + 1) / 16]\n",
      "1/1 [==============================] - 1s 781ms/step=======>      (14 + 1) / 16]\n",
      "1/1 [==============================] - 1s 874ms/step==========>   (15 + 1) / 16]\n",
      "                                                                                \r"
     ]
    }
   ],
   "source": [
    "#entrainement de l'algorithme PCA\n",
    "pca = PCA(k=1000, inputCol=\"features_scaled\", outputCol=\"features_reduced\")\n",
    "model_pca = pca.fit(data_scaled)\n",
    "data_final = model_pca.transform(data_scaled)"
   ]
  },
  {
   "cell_type": "code",
   "execution_count": 29,
   "id": "df5fbcd8",
   "metadata": {},
   "outputs": [
    {
     "name": "stdout",
     "output_type": "stream",
     "text": [
      "La variance expliquée égale a 99% est vérifiée avec 16 composantes\n"
     ]
    },
    {
     "data": {
      "image/png": "[encoded data removed]",
      "text/plain": [
       "<Figure size 1440x576 with 1 Axes>"
      ]
     },
     "metadata": {
      "needs_background": "light"
     },
     "output_type": "display_data"
    }
   ],
   "source": [
    "# Calcul de la variance expliquée cumulée par les composantes\n",
    "cumValues = model_pca.explainedVariance.cumsum() # get the cumulative values\n",
    "\n",
    "# fixer le seuil de variance expliqué minimal\n",
    "seuil = 99\n",
    "\n",
    "# afficher le graphe pour décider du nombre de composantes à considérer\n",
    "\n",
    "plt.figure(figsize=(20,8))\n",
    "plt.plot(range(1,1001), cumValues, marker = 'o', linestyle='--')\n",
    "\n",
    "X_idx = np.where(cumValues*100 >= seuil)[0]\n",
    "nb_composante = X_idx[cumValues[X_idx].argmin()]\n",
    "plt.axvline(x=nb_composante, linestyle=\"--\", color=\"green\",linewidth=2)\n",
    "\n",
    "plt.title('variance by components')\n",
    "plt.xlabel('num of components')\n",
    "plt.ylabel('cumulative explained variance')\n",
    "\n",
    "\n",
    "print(f\"La variance expliquée égale a {seuil}% est vérifiée avec {nb_composante} composantes\")"
   ]
  },
  {
   "cell_type": "code",
   "execution_count": 30,
   "id": "ee7fb3b7",
   "metadata": {},
   "outputs": [
    {
     "name": "stderr",
     "output_type": "stream",
     "text": [
      "1/1 [==============================] - 1s 789ms/step                (0 + 1) / 1]\n",
      "1/1 [==============================] - 1s 787ms/step                (0 + 1) / 1]\n",
      "1/1 [==============================] - 1s 780ms/step               (0 + 1) / 16]\n",
      "1/1 [==============================] - 1s 790ms/step               (1 + 1) / 16]\n",
      "1/1 [==============================] - 1s 930ms/step               (2 + 1) / 16]\n",
      "1/1 [==============================] - 1s 793ms/step               (3 + 1) / 16]\n",
      "1/1 [==============================] - 1s 823ms/step               (4 + 1) / 16]\n",
      "1/1 [==============================] - 1s 811ms/step               (5 + 1) / 16]\n",
      "1/1 [==============================] - 1s 825ms/step               (6 + 1) / 16]\n",
      "1/1 [==============================] - 1s 816ms/step               (7 + 1) / 16]\n",
      "1/1 [==============================] - 1s 787ms/step               (8 + 1) / 16]\n",
      "1/1 [==============================] - 1s 789ms/step               (9 + 1) / 16]\n",
      "1/1 [==============================] - 1s 781ms/step              (10 + 1) / 16]\n",
      "1/1 [==============================] - 1s 795ms/step              (11 + 1) / 16]\n",
      "1/1 [==============================] - 1s 809ms/step>             (12 + 1) / 16]\n",
      "1/1 [==============================] - 1s 795ms/step===>          (13 + 1) / 16]\n",
      "1/1 [==============================] - 1s 798ms/step=======>      (14 + 1) / 16]\n",
      "1/1 [==============================] - 1s 785ms/step==========>   (15 + 1) / 16]\n",
      "1/1 [==============================] - 1s 790ms/step                (0 + 1) / 1]\n",
      "1/1 [==============================] - 1s 787ms/step               (0 + 1) / 16]\n",
      "1/1 [==============================] - 1s 782ms/step               (1 + 1) / 16]\n",
      "1/1 [==============================] - 1s 789ms/step               (2 + 1) / 16]\n",
      "1/1 [==============================] - 1s 806ms/step               (3 + 1) / 16]\n",
      "1/1 [==============================] - 1s 819ms/step               (4 + 1) / 16]\n",
      "1/1 [==============================] - 1s 823ms/step               (5 + 1) / 16]\n",
      "1/1 [==============================] - 1s 819ms/step               (6 + 1) / 16]\n",
      "1/1 [==============================] - 1s 816ms/step               (7 + 1) / 16]\n",
      "1/1 [==============================] - 1s 790ms/step               (8 + 1) / 16]\n",
      "1/1 [==============================] - 1s 791ms/step               (9 + 1) / 16]\n",
      "1/1 [==============================] - 1s 874ms/step              (10 + 1) / 16]\n",
      "1/1 [==============================] - 1s 788ms/step              (11 + 1) / 16]\n",
      "1/1 [==============================] - 1s 793ms/step>             (12 + 1) / 16]\n",
      "1/1 [==============================] - 1s 801ms/step===>          (13 + 1) / 16]\n",
      "1/1 [==============================] - 1s 806ms/step=======>      (14 + 1) / 16]\n",
      "1/1 [==============================] - 1s 827ms/step==========>   (15 + 1) / 16]\n",
      "                                                                                \r"
     ]
    }
   ],
   "source": [
    "#entrainement de l'algorithme PCA\n",
    "pca = PCA(k=nb_composante, inputCol=\"features_scaled\", outputCol=\"features_reduced\")\n",
    "model_pca = pca.fit(data_scaled)\n",
    "data_final = model_pca.transform(data_scaled)"
   ]
  },
  {
   "cell_type": "code",
   "execution_count": 31,
   "id": "577412db",
   "metadata": {},
   "outputs": [],
   "source": [
    "data_final = data_final.select(col('path'), col('features_reduced'))"
   ]
  },
  {
   "cell_type": "code",
   "execution_count": 32,
   "id": "411869ff",
   "metadata": {},
   "outputs": [
    {
     "name": "stderr",
     "output_type": "stream",
     "text": [
      "1/1 [==============================] - 1s 821ms/step                (0 + 1) / 1]\n",
      "1/1 [==============================] - 1s 792ms/step                (0 + 1) / 4]\n",
      "1/1 [==============================] - 1s 788ms/step                (1 + 1) / 4]\n",
      "1/1 [==============================] - 1s 783ms/step                (2 + 1) / 4]\n",
      "1/1 [==============================] - 1s 816ms/step=>              (3 + 1) / 4]\n",
      "1/1 [==============================] - 1s 815ms/step               (0 + 1) / 11]\n",
      "1/1 [==============================] - 1s 818ms/step               (1 + 1) / 11]\n",
      "1/1 [==============================] - 1s 951ms/step               (2 + 1) / 11]\n",
      "1/1 [==============================] - 1s 793ms/step               (3 + 1) / 11]\n",
      "1/1 [==============================] - 1s 782ms/step               (4 + 1) / 11]\n",
      "1/1 [==============================] - 1s 784ms/step               (5 + 1) / 11]\n",
      "1/1 [==============================] - 1s 785ms/step               (6 + 1) / 11]\n",
      "1/1 [==============================] - 1s 796ms/step               (7 + 1) / 11]\n",
      "1/1 [==============================] - 1s 789ms/step               (8 + 1) / 11]\n",
      "1/1 [==============================] - 1s 786ms/step====>          (9 + 1) / 11]\n",
      "[Stage 57:==================================================>     (10 + 1) / 11]\r"
     ]
    },
    {
     "name": "stdout",
     "output_type": "stream",
     "text": [
      "+--------------------+--------------------+\n",
      "|                path|    features_reduced|\n",
      "+--------------------+--------------------+\n",
      "|file:/Users/Gucci...|[4.05633130879953...|\n",
      "|file:/Users/Gucci...|[5.08342800218017...|\n",
      "|file:/Users/Gucci...|[-37.206174015289...|\n",
      "|file:/Users/Gucci...|[9.14298516942701...|\n",
      "|file:/Users/Gucci...|[4.16418798257432...|\n",
      "|file:/Users/Gucci...|[4.24094738052665...|\n",
      "|file:/Users/Gucci...|[8.64319229866849...|\n",
      "|file:/Users/Gucci...|[-39.004455150990...|\n",
      "|file:/Users/Gucci...|[-36.086459352749...|\n",
      "|file:/Users/Gucci...|[4.25494474412681...|\n",
      "|file:/Users/Gucci...|[9.78288109049947...|\n",
      "|file:/Users/Gucci...|[8.33134547782142...|\n",
      "|file:/Users/Gucci...|[3.90569820922017...|\n",
      "|file:/Users/Gucci...|[4.73810409830349...|\n",
      "|file:/Users/Gucci...|[3.97517725600326...|\n",
      "|file:/Users/Gucci...|[8.88519960179094...|\n",
      "|file:/Users/Gucci...|[-39.313235151468...|\n",
      "|file:/Users/Gucci...|[8.60444173565708...|\n",
      "|file:/Users/Gucci...|[9.16468184098250...|\n",
      "|file:/Users/Gucci...|[9.77497029667095...|\n",
      "+--------------------+--------------------+\n",
      "\n"
     ]
    },
    {
     "name": "stderr",
     "output_type": "stream",
     "text": [
      "\r",
      "1/1 [==============================] - ETA: 0s\b\b\b\b\b\b\b\b\b\b\b\b\b\b\b\b\b\b\b\b\b\b\b\b\b\b\b\b\b\b\b\b\b\b\b\b\b\b\b\b\b\b\b\b\b\b\r",
      "1/1 [==============================] - 1s 790ms/step\n",
      "\r",
      "                                                                                \r"
     ]
    }
   ],
   "source": [
    "data_final.show()"
   ]
  },
  {
   "cell_type": "markdown",
   "id": "d596b419",
   "metadata": {},
   "source": [
    "## 8.Sauvegarde des features <a class=\"anchor\" id=\"9-bullet\"></a>"
   ]
  },
  {
   "cell_type": "code",
   "execution_count": 33,
   "id": "08ff4932",
   "metadata": {
    "scrolled": true
   },
   "outputs": [
    {
     "name": "stderr",
     "output_type": "stream",
     "text": [
      "1/1 [==============================] - 1s 791ms/step               (0 + 1) / 16]\n",
      "1/1 [==============================] - 1s 792ms/step               (1 + 1) / 16]\n",
      "1/1 [==============================] - 1s 798ms/step               (2 + 1) / 16]\n",
      "1/1 [==============================] - 1s 796ms/step               (3 + 1) / 16]\n",
      "1/1 [==============================] - 1s 841ms/step               (4 + 1) / 16]\n",
      "1/1 [==============================] - 1s 817ms/step               (5 + 1) / 16]\n",
      "1/1 [==============================] - 1s 821ms/step               (6 + 1) / 16]\n",
      "1/1 [==============================] - 1s 813ms/step               (7 + 1) / 16]\n",
      "1/1 [==============================] - 1s 794ms/step               (8 + 1) / 16]\n",
      "1/1 [==============================] - 1s 791ms/step               (9 + 1) / 16]\n",
      "1/1 [==============================] - 1s 794ms/step              (10 + 1) / 16]\n",
      "1/1 [==============================] - 1s 796ms/step              (11 + 1) / 16]\n",
      "1/1 [==============================] - 1s 791ms/step>             (12 + 1) / 16]\n",
      "1/1 [==============================] - 1s 797ms/step===>          (13 + 1) / 16]\n",
      "1/1 [==============================] - 1s 787ms/step=======>      (14 + 1) / 16]\n",
      "1/1 [==============================] - 1s 804ms/step==========>   (15 + 1) / 16]\n",
      "                                                                                \r"
     ]
    }
   ],
   "source": [
    "#Sauvegarde des résultats au format parquet\n",
    "data_final.write.mode(\"overwrite\").parquet(PATH_Result)"
   ]
  },
  {
   "cell_type": "code",
   "execution_count": 34,
   "id": "04b7ef12",
   "metadata": {},
   "outputs": [],
   "source": [
    "#Sauvegarde des résultats au format csv\n",
    "data_final = data_final.write.mode(\"overwrite\").parquet(PATH_Result)\n",
    "#data_final.to_csv('Results.csv')"
   ]
  },
  {
   "cell_type": "code",
   "execution_count": 35,
   "id": "423497d2",
   "metadata": {},
   "outputs": [],
   "source": [
    "#Visualisation des résultats via PyArrow\n",
    "#df = pd.read_parquet(PATH_Result, engine='pyarrow')"
   ]
  },
  {
   "cell_type": "code",
   "execution_count": 36,
   "id": "95168abb",
   "metadata": {},
   "outputs": [
    {
     "data": {
      "text/html": [
       "<div>\n",
       "<style scoped>\n",
       "    .dataframe tbody tr th:only-of-type {\n",
       "        vertical-align: middle;\n",
       "    }\n",
       "\n",
       "    .dataframe tbody tr th {\n",
       "        vertical-align: top;\n",
       "    }\n",
       "\n",
       "    .dataframe thead th {\n",
       "        text-align: right;\n",
       "    }\n",
       "</style>\n",
       "<table border=\"1\" class=\"dataframe\">\n",
       "  <thead>\n",
       "    <tr style=\"text-align: right;\">\n",
       "      <th></th>\n",
       "      <th>path</th>\n",
       "      <th>features_reduced</th>\n",
       "    </tr>\n",
       "  </thead>\n",
       "  <tbody>\n",
       "    <tr>\n",
       "      <th>0</th>\n",
       "      <td>file:/Users/Gucci/Desktop/P8/fruits_aws/Kiwi/5...</td>\n",
       "      <td>{'type': 1, 'size': None, 'indices': None, 'va...</td>\n",
       "    </tr>\n",
       "    <tr>\n",
       "      <th>1</th>\n",
       "      <td>file:/Users/Gucci/Desktop/P8/fruits_aws/Avocad...</td>\n",
       "      <td>{'type': 1, 'size': None, 'indices': None, 'va...</td>\n",
       "    </tr>\n",
       "    <tr>\n",
       "      <th>2</th>\n",
       "      <td>file:/Users/Gucci/Desktop/P8/fruits_aws/Banana...</td>\n",
       "      <td>{'type': 1, 'size': None, 'indices': None, 'va...</td>\n",
       "    </tr>\n",
       "    <tr>\n",
       "      <th>3</th>\n",
       "      <td>file:/Users/Gucci/Desktop/P8/fruits_aws/Apple ...</td>\n",
       "      <td>{'type': 1, 'size': None, 'indices': None, 'va...</td>\n",
       "    </tr>\n",
       "    <tr>\n",
       "      <th>4</th>\n",
       "      <td>file:/Users/Gucci/Desktop/P8/fruits_aws/Kiwi/3...</td>\n",
       "      <td>{'type': 1, 'size': None, 'indices': None, 'va...</td>\n",
       "    </tr>\n",
       "  </tbody>\n",
       "</table>\n",
       "</div>"
      ],
      "text/plain": [
       "                                                path  \\\n",
       "0  file:/Users/Gucci/Desktop/P8/fruits_aws/Kiwi/5...   \n",
       "1  file:/Users/Gucci/Desktop/P8/fruits_aws/Avocad...   \n",
       "2  file:/Users/Gucci/Desktop/P8/fruits_aws/Banana...   \n",
       "3  file:/Users/Gucci/Desktop/P8/fruits_aws/Apple ...   \n",
       "4  file:/Users/Gucci/Desktop/P8/fruits_aws/Kiwi/3...   \n",
       "\n",
       "                                    features_reduced  \n",
       "0  {'type': 1, 'size': None, 'indices': None, 'va...  \n",
       "1  {'type': 1, 'size': None, 'indices': None, 'va...  \n",
       "2  {'type': 1, 'size': None, 'indices': None, 'va...  \n",
       "3  {'type': 1, 'size': None, 'indices': None, 'va...  \n",
       "4  {'type': 1, 'size': None, 'indices': None, 'va...  "
      ]
     },
     "execution_count": 36,
     "metadata": {},
     "output_type": "execute_result"
    }
   ],
   "source": [
    "#df.head()"
   ]
  },
  {
   "cell_type": "markdown",
   "id": "d5eeaf3c",
   "metadata": {},
   "source": [
    "## 9.Arrêt de la session Spark <a class=\"anchor\" id=\"10-bullet\"></a>"
   ]
  },
  {
   "cell_type": "code",
   "execution_count": 39,
   "id": "5d11c216",
   "metadata": {},
   "outputs": [],
   "source": [
    "spark.stop()"
   ]
  },
  {
   "cell_type": "code",
   "execution_count": null,
   "id": "968b6024",
   "metadata": {},
   "outputs": [],
   "source": []
  }
 ],
 "metadata": {
  "kernelspec": {
   "display_name": "Python 3 (ipykernel)",
   "language": "python",
   "name": "python3"
  },
  "language_info": {
   "codemirror_mode": {
    "name": "ipython",
    "version": 3
   },
   "file_extension": ".py",
   "mimetype": "text/x-python",
   "name": "python",
   "nbconvert_exporter": "python",
   "pygments_lexer": "ipython3",
   "version": "3.9.7"
  }
 },
 "nbformat": 4,
 "nbformat_minor": 5
}
